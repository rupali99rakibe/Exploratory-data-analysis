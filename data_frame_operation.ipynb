{
 "cells": [
  {
   "cell_type": "code",
   "execution_count": 1,
   "id": "4403cace-d8fe-47de-a152-91fd6d54f2c5",
   "metadata": {},
   "outputs": [],
   "source": [
    "import pandas as pd"
   ]
  },
  {
   "cell_type": "code",
   "execution_count": 2,
   "id": "722732ad-19b0-434e-8c20-f585c57822c5",
   "metadata": {},
   "outputs": [
    {
     "data": {
      "text/html": [
       "<div>\n",
       "<style scoped>\n",
       "    .dataframe tbody tr th:only-of-type {\n",
       "        vertical-align: middle;\n",
       "    }\n",
       "\n",
       "    .dataframe tbody tr th {\n",
       "        vertical-align: top;\n",
       "    }\n",
       "\n",
       "    .dataframe thead th {\n",
       "        text-align: right;\n",
       "    }\n",
       "</style>\n",
       "<table border=\"1\" class=\"dataframe\">\n",
       "  <thead>\n",
       "    <tr style=\"text-align: right;\">\n",
       "      <th></th>\n",
       "      <th>id</th>\n",
       "      <th>name</th>\n",
       "      <th>host_id</th>\n",
       "      <th>host_name</th>\n",
       "      <th>neighbourhood_group</th>\n",
       "      <th>neighbourhood</th>\n",
       "      <th>latitude</th>\n",
       "      <th>longitude</th>\n",
       "      <th>room_type</th>\n",
       "      <th>price</th>\n",
       "      <th>minimum_nights</th>\n",
       "      <th>number_of_reviews</th>\n",
       "      <th>last_review</th>\n",
       "      <th>reviews_per_month</th>\n",
       "      <th>calculated_host_listings_count</th>\n",
       "      <th>availability_365</th>\n",
       "    </tr>\n",
       "  </thead>\n",
       "  <tbody>\n",
       "    <tr>\n",
       "      <th>0</th>\n",
       "      <td>2539</td>\n",
       "      <td>Clean &amp; quiet apt home by the park</td>\n",
       "      <td>2787</td>\n",
       "      <td>John</td>\n",
       "      <td>Brooklyn</td>\n",
       "      <td>Kensington</td>\n",
       "      <td>40.64749</td>\n",
       "      <td>-73.97237</td>\n",
       "      <td>Private room</td>\n",
       "      <td>149</td>\n",
       "      <td>1</td>\n",
       "      <td>9</td>\n",
       "      <td>2018-10-19</td>\n",
       "      <td>0.21</td>\n",
       "      <td>6</td>\n",
       "      <td>365</td>\n",
       "    </tr>\n",
       "    <tr>\n",
       "      <th>1</th>\n",
       "      <td>2595</td>\n",
       "      <td>Skylit Midtown Castle</td>\n",
       "      <td>2845</td>\n",
       "      <td>Jennifer</td>\n",
       "      <td>Manhattan</td>\n",
       "      <td>Midtown</td>\n",
       "      <td>40.75362</td>\n",
       "      <td>-73.98377</td>\n",
       "      <td>Entire home/apt</td>\n",
       "      <td>225</td>\n",
       "      <td>1</td>\n",
       "      <td>45</td>\n",
       "      <td>2019-05-21</td>\n",
       "      <td>0.38</td>\n",
       "      <td>2</td>\n",
       "      <td>355</td>\n",
       "    </tr>\n",
       "    <tr>\n",
       "      <th>2</th>\n",
       "      <td>3647</td>\n",
       "      <td>THE VILLAGE OF HARLEM....NEW YORK !</td>\n",
       "      <td>4632</td>\n",
       "      <td>Elisabeth</td>\n",
       "      <td>Manhattan</td>\n",
       "      <td>Harlem</td>\n",
       "      <td>40.80902</td>\n",
       "      <td>-73.94190</td>\n",
       "      <td>Private room</td>\n",
       "      <td>150</td>\n",
       "      <td>3</td>\n",
       "      <td>0</td>\n",
       "      <td>NaN</td>\n",
       "      <td>NaN</td>\n",
       "      <td>1</td>\n",
       "      <td>365</td>\n",
       "    </tr>\n",
       "    <tr>\n",
       "      <th>3</th>\n",
       "      <td>3831</td>\n",
       "      <td>Cozy Entire Floor of Brownstone</td>\n",
       "      <td>4869</td>\n",
       "      <td>LisaRoxanne</td>\n",
       "      <td>Brooklyn</td>\n",
       "      <td>Clinton Hill</td>\n",
       "      <td>40.68514</td>\n",
       "      <td>-73.95976</td>\n",
       "      <td>Entire home/apt</td>\n",
       "      <td>89</td>\n",
       "      <td>1</td>\n",
       "      <td>270</td>\n",
       "      <td>2019-07-05</td>\n",
       "      <td>4.64</td>\n",
       "      <td>1</td>\n",
       "      <td>194</td>\n",
       "    </tr>\n",
       "    <tr>\n",
       "      <th>4</th>\n",
       "      <td>5022</td>\n",
       "      <td>Entire Apt: Spacious Studio/Loft by central park</td>\n",
       "      <td>7192</td>\n",
       "      <td>Laura</td>\n",
       "      <td>Manhattan</td>\n",
       "      <td>East Harlem</td>\n",
       "      <td>40.79851</td>\n",
       "      <td>-73.94399</td>\n",
       "      <td>Entire home/apt</td>\n",
       "      <td>80</td>\n",
       "      <td>10</td>\n",
       "      <td>9</td>\n",
       "      <td>2018-11-19</td>\n",
       "      <td>0.10</td>\n",
       "      <td>1</td>\n",
       "      <td>0</td>\n",
       "    </tr>\n",
       "  </tbody>\n",
       "</table>\n",
       "</div>"
      ],
      "text/plain": [
       "     id                                              name  host_id  \\\n",
       "0  2539                Clean & quiet apt home by the park     2787   \n",
       "1  2595                             Skylit Midtown Castle     2845   \n",
       "2  3647               THE VILLAGE OF HARLEM....NEW YORK !     4632   \n",
       "3  3831                   Cozy Entire Floor of Brownstone     4869   \n",
       "4  5022  Entire Apt: Spacious Studio/Loft by central park     7192   \n",
       "\n",
       "     host_name neighbourhood_group neighbourhood  latitude  longitude  \\\n",
       "0         John            Brooklyn    Kensington  40.64749  -73.97237   \n",
       "1     Jennifer           Manhattan       Midtown  40.75362  -73.98377   \n",
       "2    Elisabeth           Manhattan        Harlem  40.80902  -73.94190   \n",
       "3  LisaRoxanne            Brooklyn  Clinton Hill  40.68514  -73.95976   \n",
       "4        Laura           Manhattan   East Harlem  40.79851  -73.94399   \n",
       "\n",
       "         room_type  price  minimum_nights  number_of_reviews last_review  \\\n",
       "0     Private room    149               1                  9  2018-10-19   \n",
       "1  Entire home/apt    225               1                 45  2019-05-21   \n",
       "2     Private room    150               3                  0         NaN   \n",
       "3  Entire home/apt     89               1                270  2019-07-05   \n",
       "4  Entire home/apt     80              10                  9  2018-11-19   \n",
       "\n",
       "   reviews_per_month  calculated_host_listings_count  availability_365  \n",
       "0               0.21                               6               365  \n",
       "1               0.38                               2               355  \n",
       "2                NaN                               1               365  \n",
       "3               4.64                               1               194  \n",
       "4               0.10                               1                 0  "
      ]
     },
     "execution_count": 2,
     "metadata": {},
     "output_type": "execute_result"
    }
   ],
   "source": [
    "df = pd.read_csv(\"C:\\\\Pandas\\\\AB_NYC_2019.csv\")\n",
    "df.head()"
   ]
  },
  {
   "cell_type": "code",
   "execution_count": 3,
   "id": "343d6778-2b59-4339-8d65-276f19556ef8",
   "metadata": {},
   "outputs": [
    {
     "name": "stdout",
     "output_type": "stream",
     "text": [
      "<class 'pandas.core.frame.DataFrame'>\n",
      "RangeIndex: 48895 entries, 0 to 48894\n",
      "Data columns (total 16 columns):\n",
      " #   Column                          Non-Null Count  Dtype  \n",
      "---  ------                          --------------  -----  \n",
      " 0   id                              48895 non-null  int64  \n",
      " 1   name                            48879 non-null  object \n",
      " 2   host_id                         48895 non-null  int64  \n",
      " 3   host_name                       48874 non-null  object \n",
      " 4   neighbourhood_group             48895 non-null  object \n",
      " 5   neighbourhood                   48895 non-null  object \n",
      " 6   latitude                        48895 non-null  float64\n",
      " 7   longitude                       48895 non-null  float64\n",
      " 8   room_type                       48895 non-null  object \n",
      " 9   price                           48895 non-null  int64  \n",
      " 10  minimum_nights                  48895 non-null  int64  \n",
      " 11  number_of_reviews               48895 non-null  int64  \n",
      " 12  last_review                     38843 non-null  object \n",
      " 13  reviews_per_month               38843 non-null  float64\n",
      " 14  calculated_host_listings_count  48895 non-null  int64  \n",
      " 15  availability_365                48895 non-null  int64  \n",
      "dtypes: float64(3), int64(7), object(6)\n",
      "memory usage: 6.0+ MB\n"
     ]
    }
   ],
   "source": [
    "df.info()"
   ]
  },
  {
   "cell_type": "code",
   "execution_count": 4,
   "id": "5f15ab3c-2252-46db-a745-5c0acd75e480",
   "metadata": {},
   "outputs": [
    {
     "data": {
      "text/plain": [
       "id                                    0\n",
       "name                                 16\n",
       "host_id                               0\n",
       "host_name                            21\n",
       "neighbourhood_group                   0\n",
       "neighbourhood                         0\n",
       "latitude                              0\n",
       "longitude                             0\n",
       "room_type                             0\n",
       "price                                 0\n",
       "minimum_nights                        0\n",
       "number_of_reviews                     0\n",
       "last_review                       10052\n",
       "reviews_per_month                 10052\n",
       "calculated_host_listings_count        0\n",
       "availability_365                      0\n",
       "dtype: int64"
      ]
     },
     "execution_count": 4,
     "metadata": {},
     "output_type": "execute_result"
    }
   ],
   "source": [
    "df.isnull().sum()"
   ]
  },
  {
   "cell_type": "code",
   "execution_count": 5,
   "id": "8639f64d-c1d1-46d5-ae2c-9eae95fd6533",
   "metadata": {},
   "outputs": [],
   "source": [
    "pd.set_option('display.float_format',lambda x : '%.5f' %x)"
   ]
  },
  {
   "cell_type": "code",
   "execution_count": 6,
   "id": "a9d5cbce-cd79-4310-acc5-b7e3f264a3a0",
   "metadata": {},
   "outputs": [
    {
     "data": {
      "text/html": [
       "<div>\n",
       "<style scoped>\n",
       "    .dataframe tbody tr th:only-of-type {\n",
       "        vertical-align: middle;\n",
       "    }\n",
       "\n",
       "    .dataframe tbody tr th {\n",
       "        vertical-align: top;\n",
       "    }\n",
       "\n",
       "    .dataframe thead th {\n",
       "        text-align: right;\n",
       "    }\n",
       "</style>\n",
       "<table border=\"1\" class=\"dataframe\">\n",
       "  <thead>\n",
       "    <tr style=\"text-align: right;\">\n",
       "      <th></th>\n",
       "      <th>id</th>\n",
       "      <th>host_id</th>\n",
       "      <th>latitude</th>\n",
       "      <th>longitude</th>\n",
       "      <th>price</th>\n",
       "      <th>minimum_nights</th>\n",
       "      <th>number_of_reviews</th>\n",
       "      <th>reviews_per_month</th>\n",
       "      <th>calculated_host_listings_count</th>\n",
       "      <th>availability_365</th>\n",
       "    </tr>\n",
       "  </thead>\n",
       "  <tbody>\n",
       "    <tr>\n",
       "      <th>count</th>\n",
       "      <td>48895.00000</td>\n",
       "      <td>48895.00000</td>\n",
       "      <td>48895.00000</td>\n",
       "      <td>48895.00000</td>\n",
       "      <td>48895.00000</td>\n",
       "      <td>48895.00000</td>\n",
       "      <td>48895.00000</td>\n",
       "      <td>38843.00000</td>\n",
       "      <td>48895.00000</td>\n",
       "      <td>48895.00000</td>\n",
       "    </tr>\n",
       "    <tr>\n",
       "      <th>mean</th>\n",
       "      <td>19017143.23618</td>\n",
       "      <td>67620010.64661</td>\n",
       "      <td>40.72895</td>\n",
       "      <td>-73.95217</td>\n",
       "      <td>152.72069</td>\n",
       "      <td>7.02996</td>\n",
       "      <td>23.27447</td>\n",
       "      <td>1.37322</td>\n",
       "      <td>7.14398</td>\n",
       "      <td>112.78133</td>\n",
       "    </tr>\n",
       "    <tr>\n",
       "      <th>std</th>\n",
       "      <td>10983108.38561</td>\n",
       "      <td>78610967.03267</td>\n",
       "      <td>0.05453</td>\n",
       "      <td>0.04616</td>\n",
       "      <td>240.15417</td>\n",
       "      <td>20.51055</td>\n",
       "      <td>44.55058</td>\n",
       "      <td>1.68044</td>\n",
       "      <td>32.95252</td>\n",
       "      <td>131.62229</td>\n",
       "    </tr>\n",
       "    <tr>\n",
       "      <th>min</th>\n",
       "      <td>2539.00000</td>\n",
       "      <td>2438.00000</td>\n",
       "      <td>40.49979</td>\n",
       "      <td>-74.24442</td>\n",
       "      <td>0.00000</td>\n",
       "      <td>1.00000</td>\n",
       "      <td>0.00000</td>\n",
       "      <td>0.01000</td>\n",
       "      <td>1.00000</td>\n",
       "      <td>0.00000</td>\n",
       "    </tr>\n",
       "    <tr>\n",
       "      <th>25%</th>\n",
       "      <td>9471945.00000</td>\n",
       "      <td>7822033.00000</td>\n",
       "      <td>40.69010</td>\n",
       "      <td>-73.98307</td>\n",
       "      <td>69.00000</td>\n",
       "      <td>1.00000</td>\n",
       "      <td>1.00000</td>\n",
       "      <td>0.19000</td>\n",
       "      <td>1.00000</td>\n",
       "      <td>0.00000</td>\n",
       "    </tr>\n",
       "    <tr>\n",
       "      <th>50%</th>\n",
       "      <td>19677284.00000</td>\n",
       "      <td>30793816.00000</td>\n",
       "      <td>40.72307</td>\n",
       "      <td>-73.95568</td>\n",
       "      <td>106.00000</td>\n",
       "      <td>3.00000</td>\n",
       "      <td>5.00000</td>\n",
       "      <td>0.72000</td>\n",
       "      <td>1.00000</td>\n",
       "      <td>45.00000</td>\n",
       "    </tr>\n",
       "    <tr>\n",
       "      <th>75%</th>\n",
       "      <td>29152178.50000</td>\n",
       "      <td>107434423.00000</td>\n",
       "      <td>40.76311</td>\n",
       "      <td>-73.93627</td>\n",
       "      <td>175.00000</td>\n",
       "      <td>5.00000</td>\n",
       "      <td>24.00000</td>\n",
       "      <td>2.02000</td>\n",
       "      <td>2.00000</td>\n",
       "      <td>227.00000</td>\n",
       "    </tr>\n",
       "    <tr>\n",
       "      <th>max</th>\n",
       "      <td>36487245.00000</td>\n",
       "      <td>274321313.00000</td>\n",
       "      <td>40.91306</td>\n",
       "      <td>-73.71299</td>\n",
       "      <td>10000.00000</td>\n",
       "      <td>1250.00000</td>\n",
       "      <td>629.00000</td>\n",
       "      <td>58.50000</td>\n",
       "      <td>327.00000</td>\n",
       "      <td>365.00000</td>\n",
       "    </tr>\n",
       "  </tbody>\n",
       "</table>\n",
       "</div>"
      ],
      "text/plain": [
       "                  id         host_id    latitude   longitude       price  \\\n",
       "count    48895.00000     48895.00000 48895.00000 48895.00000 48895.00000   \n",
       "mean  19017143.23618  67620010.64661    40.72895   -73.95217   152.72069   \n",
       "std   10983108.38561  78610967.03267     0.05453     0.04616   240.15417   \n",
       "min       2539.00000      2438.00000    40.49979   -74.24442     0.00000   \n",
       "25%    9471945.00000   7822033.00000    40.69010   -73.98307    69.00000   \n",
       "50%   19677284.00000  30793816.00000    40.72307   -73.95568   106.00000   \n",
       "75%   29152178.50000 107434423.00000    40.76311   -73.93627   175.00000   \n",
       "max   36487245.00000 274321313.00000    40.91306   -73.71299 10000.00000   \n",
       "\n",
       "       minimum_nights  number_of_reviews  reviews_per_month  \\\n",
       "count     48895.00000        48895.00000        38843.00000   \n",
       "mean          7.02996           23.27447            1.37322   \n",
       "std          20.51055           44.55058            1.68044   \n",
       "min           1.00000            0.00000            0.01000   \n",
       "25%           1.00000            1.00000            0.19000   \n",
       "50%           3.00000            5.00000            0.72000   \n",
       "75%           5.00000           24.00000            2.02000   \n",
       "max        1250.00000          629.00000           58.50000   \n",
       "\n",
       "       calculated_host_listings_count  availability_365  \n",
       "count                     48895.00000       48895.00000  \n",
       "mean                          7.14398         112.78133  \n",
       "std                          32.95252         131.62229  \n",
       "min                           1.00000           0.00000  \n",
       "25%                           1.00000           0.00000  \n",
       "50%                           1.00000          45.00000  \n",
       "75%                           2.00000         227.00000  \n",
       "max                         327.00000         365.00000  "
      ]
     },
     "execution_count": 6,
     "metadata": {},
     "output_type": "execute_result"
    }
   ],
   "source": [
    "df.describe()"
   ]
  },
  {
   "cell_type": "code",
   "execution_count": 7,
   "id": "3ed77267-09ce-45c9-b760-88d1994972e7",
   "metadata": {},
   "outputs": [],
   "source": [
    "import numpy as np\n",
    "from scipy import stats"
   ]
  },
  {
   "cell_type": "code",
   "execution_count": 8,
   "id": "610ab45b-f983-45f2-bcfd-021624a15208",
   "metadata": {},
   "outputs": [
    {
     "data": {
      "text/plain": [
       "16"
      ]
     },
     "execution_count": 8,
     "metadata": {},
     "output_type": "execute_result"
    }
   ],
   "source": [
    "df['name'].isnull().sum()"
   ]
  },
  {
   "cell_type": "code",
   "execution_count": 9,
   "id": "a29c047a-ba38-4334-b757-5e1c163b70dd",
   "metadata": {},
   "outputs": [
    {
     "data": {
      "text/plain": [
       "array(['Clean & quiet apt home by the park', 'Skylit Midtown Castle',\n",
       "       'THE VILLAGE OF HARLEM....NEW YORK !', ...,\n",
       "       'Sunny Studio at Historical Neighborhood',\n",
       "       '43rd St. Time Square-cozy single bed',\n",
       "       \"Trendy duplex in the very heart of Hell's Kitchen\"], dtype=object)"
      ]
     },
     "execution_count": 9,
     "metadata": {},
     "output_type": "execute_result"
    }
   ],
   "source": [
    "df['name'].unique()"
   ]
  },
  {
   "cell_type": "code",
   "execution_count": 10,
   "id": "c302208f-f74f-4f62-b935-87647ad9c905",
   "metadata": {},
   "outputs": [
    {
     "data": {
      "text/plain": [
       "0    Hillside Hotel\n",
       "Name: name, dtype: object"
      ]
     },
     "execution_count": 10,
     "metadata": {},
     "output_type": "execute_result"
    }
   ],
   "source": [
    "df['name'].mode()"
   ]
  },
  {
   "cell_type": "code",
   "execution_count": 11,
   "id": "3b2699ac-688f-48ed-b28f-a9503a5d2c57",
   "metadata": {},
   "outputs": [],
   "source": [
    "df['name'].fillna(\"Hillside Hotel\",inplace = True)"
   ]
  },
  {
   "cell_type": "code",
   "execution_count": 12,
   "id": "78f55ae6-2dc0-48a0-b428-8a8b152950af",
   "metadata": {},
   "outputs": [
    {
     "data": {
      "text/plain": [
       "0"
      ]
     },
     "execution_count": 12,
     "metadata": {},
     "output_type": "execute_result"
    }
   ],
   "source": [
    "df['name'].isnull().sum()"
   ]
  },
  {
   "cell_type": "code",
   "execution_count": 13,
   "id": "e60a64d0-d1f1-4d8e-9019-c7279503eb6f",
   "metadata": {},
   "outputs": [
    {
     "data": {
      "text/plain": [
       "0    2019-06-23\n",
       "Name: last_review, dtype: object"
      ]
     },
     "execution_count": 13,
     "metadata": {},
     "output_type": "execute_result"
    }
   ],
   "source": [
    "df['last_review'].mode()"
   ]
  },
  {
   "cell_type": "code",
   "execution_count": 14,
   "id": "d90fa6ec-4941-46f8-b01d-1a7986c91708",
   "metadata": {},
   "outputs": [
    {
     "data": {
      "text/plain": [
       "0       2018-10-19\n",
       "1       2019-05-21\n",
       "2              NaT\n",
       "3       2019-07-05\n",
       "4       2018-11-19\n",
       "           ...    \n",
       "48890          NaT\n",
       "48891          NaT\n",
       "48892          NaT\n",
       "48893          NaT\n",
       "48894          NaT\n",
       "Name: last_review, Length: 48895, dtype: datetime64[ns]"
      ]
     },
     "execution_count": 14,
     "metadata": {},
     "output_type": "execute_result"
    }
   ],
   "source": [
    "df['last_review'] = pd.to_datetime(df['last_review'])\n",
    "df['last_review']"
   ]
  },
  {
   "cell_type": "code",
   "execution_count": 15,
   "id": "a081210c-3bd2-42ce-b911-74f056233794",
   "metadata": {},
   "outputs": [
    {
     "name": "stdout",
     "output_type": "stream",
     "text": [
      "<class 'pandas.core.frame.DataFrame'>\n",
      "RangeIndex: 48895 entries, 0 to 48894\n",
      "Data columns (total 16 columns):\n",
      " #   Column                          Non-Null Count  Dtype         \n",
      "---  ------                          --------------  -----         \n",
      " 0   id                              48895 non-null  int64         \n",
      " 1   name                            48895 non-null  object        \n",
      " 2   host_id                         48895 non-null  int64         \n",
      " 3   host_name                       48874 non-null  object        \n",
      " 4   neighbourhood_group             48895 non-null  object        \n",
      " 5   neighbourhood                   48895 non-null  object        \n",
      " 6   latitude                        48895 non-null  float64       \n",
      " 7   longitude                       48895 non-null  float64       \n",
      " 8   room_type                       48895 non-null  object        \n",
      " 9   price                           48895 non-null  int64         \n",
      " 10  minimum_nights                  48895 non-null  int64         \n",
      " 11  number_of_reviews               48895 non-null  int64         \n",
      " 12  last_review                     38843 non-null  datetime64[ns]\n",
      " 13  reviews_per_month               38843 non-null  float64       \n",
      " 14  calculated_host_listings_count  48895 non-null  int64         \n",
      " 15  availability_365                48895 non-null  int64         \n",
      "dtypes: datetime64[ns](1), float64(3), int64(7), object(5)\n",
      "memory usage: 6.0+ MB\n"
     ]
    }
   ],
   "source": [
    "df.info()"
   ]
  },
  {
   "cell_type": "code",
   "execution_count": 16,
   "id": "0c056293-adf6-4acd-8abf-319b7ce965c8",
   "metadata": {},
   "outputs": [],
   "source": [
    "df['last_review'].fillna('2019-06-23',inplace=True)"
   ]
  },
  {
   "cell_type": "code",
   "execution_count": 17,
   "id": "8aa4d12c-f6dc-4673-8a5c-5ddba0b5711a",
   "metadata": {},
   "outputs": [
    {
     "name": "stdout",
     "output_type": "stream",
     "text": [
      "<class 'pandas.core.series.Series'>\n",
      "RangeIndex: 48895 entries, 0 to 48894\n",
      "Series name: last_review\n",
      "Non-Null Count  Dtype         \n",
      "--------------  -----         \n",
      "48895 non-null  datetime64[ns]\n",
      "dtypes: datetime64[ns](1)\n",
      "memory usage: 382.1 KB\n"
     ]
    }
   ],
   "source": [
    "df['last_review'].info()"
   ]
  },
  {
   "cell_type": "code",
   "execution_count": 18,
   "id": "7ce914f0-cbd5-4ddf-a19b-2ab8f71a3176",
   "metadata": {},
   "outputs": [
    {
     "data": {
      "text/plain": [
       "id                                    0\n",
       "name                                  0\n",
       "host_id                               0\n",
       "host_name                            21\n",
       "neighbourhood_group                   0\n",
       "neighbourhood                         0\n",
       "latitude                              0\n",
       "longitude                             0\n",
       "room_type                             0\n",
       "price                                 0\n",
       "minimum_nights                        0\n",
       "number_of_reviews                     0\n",
       "last_review                           0\n",
       "reviews_per_month                 10052\n",
       "calculated_host_listings_count        0\n",
       "availability_365                      0\n",
       "dtype: int64"
      ]
     },
     "execution_count": 18,
     "metadata": {},
     "output_type": "execute_result"
    }
   ],
   "source": [
    "df.isnull().sum()"
   ]
  },
  {
   "cell_type": "code",
   "execution_count": 19,
   "id": "b4400913-18fc-4ce1-9219-5b01ffa4f936",
   "metadata": {},
   "outputs": [
    {
     "data": {
      "text/plain": [
       "0    Michael\n",
       "Name: host_name, dtype: object"
      ]
     },
     "execution_count": 19,
     "metadata": {},
     "output_type": "execute_result"
    }
   ],
   "source": [
    "df['host_name'].mode()"
   ]
  },
  {
   "cell_type": "code",
   "execution_count": 20,
   "id": "086d311b-838c-46d1-9af6-149cb88379e0",
   "metadata": {},
   "outputs": [],
   "source": [
    "df['host_name'].fillna(\"Michael\",inplace = True)"
   ]
  },
  {
   "cell_type": "code",
   "execution_count": 21,
   "id": "8bfbec26-7fa0-4c83-a5c0-fb1c99b72f82",
   "metadata": {},
   "outputs": [
    {
     "name": "stdout",
     "output_type": "stream",
     "text": [
      "<class 'pandas.core.series.Series'>\n",
      "RangeIndex: 48895 entries, 0 to 48894\n",
      "Series name: host_name\n",
      "Non-Null Count  Dtype \n",
      "--------------  ----- \n",
      "48895 non-null  object\n",
      "dtypes: object(1)\n",
      "memory usage: 382.1+ KB\n"
     ]
    }
   ],
   "source": [
    "df['host_name'].info()"
   ]
  },
  {
   "cell_type": "code",
   "execution_count": 22,
   "id": "3b0f7945-cde9-47ed-a13c-3fdc7b53dc04",
   "metadata": {},
   "outputs": [
    {
     "data": {
      "text/plain": [
       "1.3732214298586618"
      ]
     },
     "execution_count": 22,
     "metadata": {},
     "output_type": "execute_result"
    }
   ],
   "source": [
    "df['reviews_per_month'].mean()"
   ]
  },
  {
   "cell_type": "code",
   "execution_count": 23,
   "id": "af51862b-18d1-4fce-9190-ccdd7f98b659",
   "metadata": {},
   "outputs": [
    {
     "data": {
      "text/plain": [
       "0.72"
      ]
     },
     "execution_count": 23,
     "metadata": {},
     "output_type": "execute_result"
    }
   ],
   "source": [
    "df['reviews_per_month'].median()"
   ]
  },
  {
   "cell_type": "code",
   "execution_count": 24,
   "id": "6fbe6f59-7ad9-475f-be4e-836277be4fd1",
   "metadata": {},
   "outputs": [
    {
     "data": {
      "text/plain": [
       "count   38843.00000\n",
       "mean        1.37322\n",
       "std         1.68044\n",
       "min         0.01000\n",
       "25%         0.19000\n",
       "50%         0.72000\n",
       "75%         2.02000\n",
       "max        58.50000\n",
       "Name: reviews_per_month, dtype: float64"
      ]
     },
     "execution_count": 24,
     "metadata": {},
     "output_type": "execute_result"
    }
   ],
   "source": [
    "df['reviews_per_month'].describe()"
   ]
  },
  {
   "cell_type": "code",
   "execution_count": 25,
   "id": "fe399661-030d-4b7a-bd48-ebcd2388931e",
   "metadata": {},
   "outputs": [
    {
     "data": {
      "text/plain": [
       "7.195800000000018"
      ]
     },
     "execution_count": 25,
     "metadata": {},
     "output_type": "execute_result"
    }
   ],
   "source": [
    "# To find the percentage another different method by using outliers\n",
    "max_reviews_per_month = df.reviews_per_month.quantile(0.99)\n",
    "max_reviews_per_month"
   ]
  },
  {
   "cell_type": "code",
   "execution_count": 26,
   "id": "2841421b-5eba-4df2-95c5-97cb86fcd8ad",
   "metadata": {},
   "outputs": [
    {
     "data": {
      "text/html": [
       "<div>\n",
       "<style scoped>\n",
       "    .dataframe tbody tr th:only-of-type {\n",
       "        vertical-align: middle;\n",
       "    }\n",
       "\n",
       "    .dataframe tbody tr th {\n",
       "        vertical-align: top;\n",
       "    }\n",
       "\n",
       "    .dataframe thead th {\n",
       "        text-align: right;\n",
       "    }\n",
       "</style>\n",
       "<table border=\"1\" class=\"dataframe\">\n",
       "  <thead>\n",
       "    <tr style=\"text-align: right;\">\n",
       "      <th></th>\n",
       "      <th>id</th>\n",
       "      <th>name</th>\n",
       "      <th>host_id</th>\n",
       "      <th>host_name</th>\n",
       "      <th>neighbourhood_group</th>\n",
       "      <th>neighbourhood</th>\n",
       "      <th>latitude</th>\n",
       "      <th>longitude</th>\n",
       "      <th>room_type</th>\n",
       "      <th>price</th>\n",
       "      <th>minimum_nights</th>\n",
       "      <th>number_of_reviews</th>\n",
       "      <th>last_review</th>\n",
       "      <th>reviews_per_month</th>\n",
       "      <th>calculated_host_listings_count</th>\n",
       "      <th>availability_365</th>\n",
       "    </tr>\n",
       "  </thead>\n",
       "  <tbody>\n",
       "    <tr>\n",
       "      <th>1614</th>\n",
       "      <td>732700</td>\n",
       "      <td>Centrally located and spacious apt.</td>\n",
       "      <td>3815537</td>\n",
       "      <td>Reshma</td>\n",
       "      <td>Manhattan</td>\n",
       "      <td>Midtown</td>\n",
       "      <td>40.75154</td>\n",
       "      <td>-73.97104</td>\n",
       "      <td>Entire home/apt</td>\n",
       "      <td>106</td>\n",
       "      <td>7</td>\n",
       "      <td>10</td>\n",
       "      <td>2019-07-06</td>\n",
       "      <td>10.00000</td>\n",
       "      <td>1</td>\n",
       "      <td>0</td>\n",
       "    </tr>\n",
       "    <tr>\n",
       "      <th>1627</th>\n",
       "      <td>741154</td>\n",
       "      <td>Beautiful duplex loft with Skylight</td>\n",
       "      <td>1406458</td>\n",
       "      <td>Nancy</td>\n",
       "      <td>Manhattan</td>\n",
       "      <td>Tribeca</td>\n",
       "      <td>40.71778</td>\n",
       "      <td>-74.00452</td>\n",
       "      <td>Entire home/apt</td>\n",
       "      <td>210</td>\n",
       "      <td>14</td>\n",
       "      <td>10</td>\n",
       "      <td>2019-07-04</td>\n",
       "      <td>10.00000</td>\n",
       "      <td>1</td>\n",
       "      <td>0</td>\n",
       "    </tr>\n",
       "    <tr>\n",
       "      <th>2015</th>\n",
       "      <td>891117</td>\n",
       "      <td>Private Bedroom in Manhattan</td>\n",
       "      <td>4734398</td>\n",
       "      <td>Jj</td>\n",
       "      <td>Manhattan</td>\n",
       "      <td>Harlem</td>\n",
       "      <td>40.82264</td>\n",
       "      <td>-73.94041</td>\n",
       "      <td>Private room</td>\n",
       "      <td>49</td>\n",
       "      <td>1</td>\n",
       "      <td>594</td>\n",
       "      <td>2019-06-15</td>\n",
       "      <td>7.57000</td>\n",
       "      <td>3</td>\n",
       "      <td>339</td>\n",
       "    </tr>\n",
       "    <tr>\n",
       "      <th>2030</th>\n",
       "      <td>903947</td>\n",
       "      <td>Beautiful Bedroom in Manhattan</td>\n",
       "      <td>4734398</td>\n",
       "      <td>Jj</td>\n",
       "      <td>Manhattan</td>\n",
       "      <td>Harlem</td>\n",
       "      <td>40.82124</td>\n",
       "      <td>-73.93838</td>\n",
       "      <td>Private room</td>\n",
       "      <td>49</td>\n",
       "      <td>1</td>\n",
       "      <td>597</td>\n",
       "      <td>2019-06-23</td>\n",
       "      <td>7.72000</td>\n",
       "      <td>3</td>\n",
       "      <td>342</td>\n",
       "    </tr>\n",
       "    <tr>\n",
       "      <th>2031</th>\n",
       "      <td>903972</td>\n",
       "      <td>Great Bedroom in Manhattan</td>\n",
       "      <td>4734398</td>\n",
       "      <td>Jj</td>\n",
       "      <td>Manhattan</td>\n",
       "      <td>Harlem</td>\n",
       "      <td>40.82085</td>\n",
       "      <td>-73.94025</td>\n",
       "      <td>Private room</td>\n",
       "      <td>49</td>\n",
       "      <td>1</td>\n",
       "      <td>607</td>\n",
       "      <td>2019-06-21</td>\n",
       "      <td>7.75000</td>\n",
       "      <td>3</td>\n",
       "      <td>293</td>\n",
       "    </tr>\n",
       "    <tr>\n",
       "      <th>...</th>\n",
       "      <td>...</td>\n",
       "      <td>...</td>\n",
       "      <td>...</td>\n",
       "      <td>...</td>\n",
       "      <td>...</td>\n",
       "      <td>...</td>\n",
       "      <td>...</td>\n",
       "      <td>...</td>\n",
       "      <td>...</td>\n",
       "      <td>...</td>\n",
       "      <td>...</td>\n",
       "      <td>...</td>\n",
       "      <td>...</td>\n",
       "      <td>...</td>\n",
       "      <td>...</td>\n",
       "      <td>...</td>\n",
       "    </tr>\n",
       "    <tr>\n",
       "      <th>46939</th>\n",
       "      <td>35496676</td>\n",
       "      <td>Cozy Private Bedroom in Upper West Side</td>\n",
       "      <td>266522456</td>\n",
       "      <td>Aaron</td>\n",
       "      <td>Manhattan</td>\n",
       "      <td>Upper West Side</td>\n",
       "      <td>40.80140</td>\n",
       "      <td>-73.96563</td>\n",
       "      <td>Private room</td>\n",
       "      <td>130</td>\n",
       "      <td>1</td>\n",
       "      <td>9</td>\n",
       "      <td>2019-07-07</td>\n",
       "      <td>9.00000</td>\n",
       "      <td>3</td>\n",
       "      <td>79</td>\n",
       "    </tr>\n",
       "    <tr>\n",
       "      <th>46951</th>\n",
       "      <td>35508218</td>\n",
       "      <td>Garden Flat</td>\n",
       "      <td>155137506</td>\n",
       "      <td>Dandey</td>\n",
       "      <td>Queens</td>\n",
       "      <td>Laurelton</td>\n",
       "      <td>40.68129</td>\n",
       "      <td>-73.74745</td>\n",
       "      <td>Entire home/apt</td>\n",
       "      <td>85</td>\n",
       "      <td>1</td>\n",
       "      <td>8</td>\n",
       "      <td>2019-07-06</td>\n",
       "      <td>8.00000</td>\n",
       "      <td>1</td>\n",
       "      <td>166</td>\n",
       "    </tr>\n",
       "    <tr>\n",
       "      <th>47161</th>\n",
       "      <td>35613002</td>\n",
       "      <td>Manhattan ☯ Brooklyn | Best of Both❤️</td>\n",
       "      <td>267680159</td>\n",
       "      <td>Alex</td>\n",
       "      <td>Manhattan</td>\n",
       "      <td>Lower East Side</td>\n",
       "      <td>40.71261</td>\n",
       "      <td>-73.98857</td>\n",
       "      <td>Entire home/apt</td>\n",
       "      <td>300</td>\n",
       "      <td>1</td>\n",
       "      <td>8</td>\n",
       "      <td>2019-06-30</td>\n",
       "      <td>8.00000</td>\n",
       "      <td>1</td>\n",
       "      <td>213</td>\n",
       "    </tr>\n",
       "    <tr>\n",
       "      <th>47252</th>\n",
       "      <td>35655950</td>\n",
       "      <td>Gorgeous Super Clean Guest Suite</td>\n",
       "      <td>80443454</td>\n",
       "      <td>Kathryn</td>\n",
       "      <td>Queens</td>\n",
       "      <td>Kew Gardens Hills</td>\n",
       "      <td>40.71708</td>\n",
       "      <td>-73.82411</td>\n",
       "      <td>Private room</td>\n",
       "      <td>74</td>\n",
       "      <td>1</td>\n",
       "      <td>10</td>\n",
       "      <td>2019-07-07</td>\n",
       "      <td>10.00000</td>\n",
       "      <td>1</td>\n",
       "      <td>160</td>\n",
       "    </tr>\n",
       "    <tr>\n",
       "      <th>47434</th>\n",
       "      <td>35733228</td>\n",
       "      <td>Relax comfortably 1BR w/AC in the Heart of Que...</td>\n",
       "      <td>268784513</td>\n",
       "      <td>Amit</td>\n",
       "      <td>Queens</td>\n",
       "      <td>East Elmhurst</td>\n",
       "      <td>40.75938</td>\n",
       "      <td>-73.88219</td>\n",
       "      <td>Private room</td>\n",
       "      <td>70</td>\n",
       "      <td>1</td>\n",
       "      <td>8</td>\n",
       "      <td>2019-07-07</td>\n",
       "      <td>8.00000</td>\n",
       "      <td>3</td>\n",
       "      <td>342</td>\n",
       "    </tr>\n",
       "  </tbody>\n",
       "</table>\n",
       "<p>389 rows × 16 columns</p>\n",
       "</div>"
      ],
      "text/plain": [
       "             id                                               name    host_id  \\\n",
       "1614     732700                Centrally located and spacious apt.    3815537   \n",
       "1627     741154                Beautiful duplex loft with Skylight    1406458   \n",
       "2015     891117                       Private Bedroom in Manhattan    4734398   \n",
       "2030     903947                     Beautiful Bedroom in Manhattan    4734398   \n",
       "2031     903972                         Great Bedroom in Manhattan    4734398   \n",
       "...         ...                                                ...        ...   \n",
       "46939  35496676            Cozy Private Bedroom in Upper West Side  266522456   \n",
       "46951  35508218                                        Garden Flat  155137506   \n",
       "47161  35613002              Manhattan ☯ Brooklyn | Best of Both❤️  267680159   \n",
       "47252  35655950                   Gorgeous Super Clean Guest Suite   80443454   \n",
       "47434  35733228  Relax comfortably 1BR w/AC in the Heart of Que...  268784513   \n",
       "\n",
       "      host_name neighbourhood_group      neighbourhood  latitude  longitude  \\\n",
       "1614     Reshma           Manhattan            Midtown  40.75154  -73.97104   \n",
       "1627      Nancy           Manhattan            Tribeca  40.71778  -74.00452   \n",
       "2015         Jj           Manhattan             Harlem  40.82264  -73.94041   \n",
       "2030         Jj           Manhattan             Harlem  40.82124  -73.93838   \n",
       "2031         Jj           Manhattan             Harlem  40.82085  -73.94025   \n",
       "...         ...                 ...                ...       ...        ...   \n",
       "46939     Aaron           Manhattan    Upper West Side  40.80140  -73.96563   \n",
       "46951    Dandey              Queens          Laurelton  40.68129  -73.74745   \n",
       "47161      Alex           Manhattan    Lower East Side  40.71261  -73.98857   \n",
       "47252   Kathryn              Queens  Kew Gardens Hills  40.71708  -73.82411   \n",
       "47434      Amit              Queens      East Elmhurst  40.75938  -73.88219   \n",
       "\n",
       "             room_type  price  minimum_nights  number_of_reviews last_review  \\\n",
       "1614   Entire home/apt    106               7                 10  2019-07-06   \n",
       "1627   Entire home/apt    210              14                 10  2019-07-04   \n",
       "2015      Private room     49               1                594  2019-06-15   \n",
       "2030      Private room     49               1                597  2019-06-23   \n",
       "2031      Private room     49               1                607  2019-06-21   \n",
       "...                ...    ...             ...                ...         ...   \n",
       "46939     Private room    130               1                  9  2019-07-07   \n",
       "46951  Entire home/apt     85               1                  8  2019-07-06   \n",
       "47161  Entire home/apt    300               1                  8  2019-06-30   \n",
       "47252     Private room     74               1                 10  2019-07-07   \n",
       "47434     Private room     70               1                  8  2019-07-07   \n",
       "\n",
       "       reviews_per_month  calculated_host_listings_count  availability_365  \n",
       "1614            10.00000                               1                 0  \n",
       "1627            10.00000                               1                 0  \n",
       "2015             7.57000                               3               339  \n",
       "2030             7.72000                               3               342  \n",
       "2031             7.75000                               3               293  \n",
       "...                  ...                             ...               ...  \n",
       "46939            9.00000                               3                79  \n",
       "46951            8.00000                               1               166  \n",
       "47161            8.00000                               1               213  \n",
       "47252           10.00000                               1               160  \n",
       "47434            8.00000                               3               342  \n",
       "\n",
       "[389 rows x 16 columns]"
      ]
     },
     "execution_count": 26,
     "metadata": {},
     "output_type": "execute_result"
    }
   ],
   "source": [
    "maximum_review = df[df.reviews_per_month > max_reviews_per_month]\n",
    "maximum_review"
   ]
  },
  {
   "cell_type": "code",
   "execution_count": null,
   "id": "a339eed2-3dde-46ad-971b-171f119031ea",
   "metadata": {},
   "outputs": [],
   "source": []
  },
  {
   "cell_type": "code",
   "execution_count": null,
   "id": "03c3ed91-f5cc-48a4-a072-85530a852d1f",
   "metadata": {},
   "outputs": [],
   "source": []
  }
 ],
 "metadata": {
  "kernelspec": {
   "display_name": "Python 3 (ipykernel)",
   "language": "python",
   "name": "python3"
  },
  "language_info": {
   "codemirror_mode": {
    "name": "ipython",
    "version": 3
   },
   "file_extension": ".py",
   "mimetype": "text/x-python",
   "name": "python",
   "nbconvert_exporter": "python",
   "pygments_lexer": "ipython3",
   "version": "3.11.5"
  },
  "widgets": {
   "application/vnd.jupyter.widget-state+json": {
    "state": {},
    "version_major": 2,
    "version_minor": 0
   }
  }
 },
 "nbformat": 4,
 "nbformat_minor": 5
}
