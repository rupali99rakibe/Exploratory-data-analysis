{
 "cells": [
  {
   "cell_type": "code",
   "execution_count": 1,
   "id": "aa951294-9912-44dd-8273-b3a2e09f5432",
   "metadata": {},
   "outputs": [],
   "source": [
    "import pandas as pd \n",
    "import warnings \n",
    "warnings.filterwarnings(\"ignore\")"
   ]
  },
  {
   "cell_type": "code",
   "execution_count": 2,
   "id": "1df2e10b-db21-4c85-bed9-3adbe465beec",
   "metadata": {},
   "outputs": [
    {
     "data": {
      "text/html": [
       "<div>\n",
       "<style scoped>\n",
       "    .dataframe tbody tr th:only-of-type {\n",
       "        vertical-align: middle;\n",
       "    }\n",
       "\n",
       "    .dataframe tbody tr th {\n",
       "        vertical-align: top;\n",
       "    }\n",
       "\n",
       "    .dataframe thead th {\n",
       "        text-align: right;\n",
       "    }\n",
       "</style>\n",
       "<table border=\"1\" class=\"dataframe\">\n",
       "  <thead>\n",
       "    <tr style=\"text-align: right;\">\n",
       "      <th></th>\n",
       "      <th>Unnamed: 0</th>\n",
       "      <th>Bat1</th>\n",
       "      <th>Runs</th>\n",
       "      <th>BF</th>\n",
       "      <th>SR</th>\n",
       "      <th>4s</th>\n",
       "      <th>6s</th>\n",
       "      <th>Opposition</th>\n",
       "      <th>Ground</th>\n",
       "      <th>Start Date</th>\n",
       "      <th>Match_ID</th>\n",
       "      <th>Batsman</th>\n",
       "      <th>Player_ID</th>\n",
       "    </tr>\n",
       "  </thead>\n",
       "  <tbody>\n",
       "    <tr>\n",
       "      <th>0</th>\n",
       "      <td>1</td>\n",
       "      <td>DNB</td>\n",
       "      <td>-</td>\n",
       "      <td>-</td>\n",
       "      <td>-</td>\n",
       "      <td>-</td>\n",
       "      <td>-</td>\n",
       "      <td>v India</td>\n",
       "      <td>Nagpur</td>\n",
       "      <td>18-Dec-09</td>\n",
       "      <td>ODI # 2933</td>\n",
       "      <td>Oshane Thomas</td>\n",
       "      <td>49619</td>\n",
       "    </tr>\n",
       "    <tr>\n",
       "      <th>1</th>\n",
       "      <td>2</td>\n",
       "      <td>DNB</td>\n",
       "      <td>-</td>\n",
       "      <td>-</td>\n",
       "      <td>-</td>\n",
       "      <td>-</td>\n",
       "      <td>-</td>\n",
       "      <td>v India</td>\n",
       "      <td>Kolkata</td>\n",
       "      <td>24-Dec-09</td>\n",
       "      <td>ODI # 2935</td>\n",
       "      <td>Oshane Thomas</td>\n",
       "      <td>49619</td>\n",
       "    </tr>\n",
       "    <tr>\n",
       "      <th>2</th>\n",
       "      <td>3</td>\n",
       "      <td>DNB</td>\n",
       "      <td>-</td>\n",
       "      <td>-</td>\n",
       "      <td>-</td>\n",
       "      <td>-</td>\n",
       "      <td>-</td>\n",
       "      <td>v India</td>\n",
       "      <td>Delhi</td>\n",
       "      <td>27-Dec-09</td>\n",
       "      <td>ODI # 2936</td>\n",
       "      <td>Oshane Thomas</td>\n",
       "      <td>49619</td>\n",
       "    </tr>\n",
       "    <tr>\n",
       "      <th>3</th>\n",
       "      <td>4</td>\n",
       "      <td>DNB</td>\n",
       "      <td>-</td>\n",
       "      <td>-</td>\n",
       "      <td>-</td>\n",
       "      <td>-</td>\n",
       "      <td>-</td>\n",
       "      <td>v Bangladesh</td>\n",
       "      <td>Dhaka</td>\n",
       "      <td>04-Jan-10</td>\n",
       "      <td>ODI # 2937</td>\n",
       "      <td>Oshane Thomas</td>\n",
       "      <td>49619</td>\n",
       "    </tr>\n",
       "    <tr>\n",
       "      <th>4</th>\n",
       "      <td>5</td>\n",
       "      <td>DNB</td>\n",
       "      <td>-</td>\n",
       "      <td>-</td>\n",
       "      <td>-</td>\n",
       "      <td>-</td>\n",
       "      <td>-</td>\n",
       "      <td>v India</td>\n",
       "      <td>Dhaka</td>\n",
       "      <td>05-Jan-10</td>\n",
       "      <td>ODI # 2938</td>\n",
       "      <td>Oshane Thomas</td>\n",
       "      <td>49619</td>\n",
       "    </tr>\n",
       "  </tbody>\n",
       "</table>\n",
       "</div>"
      ],
      "text/plain": [
       "   Unnamed: 0 Bat1 Runs BF SR 4s 6s    Opposition   Ground Start Date  \\\n",
       "0           1  DNB    -  -  -  -  -       v India   Nagpur  18-Dec-09   \n",
       "1           2  DNB    -  -  -  -  -       v India  Kolkata  24-Dec-09   \n",
       "2           3  DNB    -  -  -  -  -       v India    Delhi  27-Dec-09   \n",
       "3           4  DNB    -  -  -  -  -  v Bangladesh    Dhaka  04-Jan-10   \n",
       "4           5  DNB    -  -  -  -  -       v India    Dhaka  05-Jan-10   \n",
       "\n",
       "     Match_ID        Batsman  Player_ID  \n",
       "0  ODI # 2933  Oshane Thomas      49619  \n",
       "1  ODI # 2935  Oshane Thomas      49619  \n",
       "2  ODI # 2936  Oshane Thomas      49619  \n",
       "3  ODI # 2937  Oshane Thomas      49619  \n",
       "4  ODI # 2938  Oshane Thomas      49619  "
      ]
     },
     "execution_count": 2,
     "metadata": {},
     "output_type": "execute_result"
    }
   ],
   "source": [
    "df = pd.read_csv(\"D:\\\\practice_data_set\\\\Batsman_Data.csv\")\n",
    "df.head()"
   ]
  },
  {
   "cell_type": "code",
   "execution_count": 3,
   "id": "9ae7da2c-ac71-48d9-bddd-901f71788f6f",
   "metadata": {},
   "outputs": [
    {
     "data": {
      "text/plain": [
       "(11149, 13)"
      ]
     },
     "execution_count": 3,
     "metadata": {},
     "output_type": "execute_result"
    }
   ],
   "source": [
    "df.shape"
   ]
  },
  {
   "cell_type": "code",
   "execution_count": 4,
   "id": "8ed85164-8116-4ce5-a07d-12f2c0b677b7",
   "metadata": {},
   "outputs": [
    {
     "name": "stdout",
     "output_type": "stream",
     "text": [
      "<class 'pandas.core.frame.DataFrame'>\n",
      "RangeIndex: 11149 entries, 0 to 11148\n",
      "Data columns (total 13 columns):\n",
      " #   Column      Non-Null Count  Dtype \n",
      "---  ------      --------------  ----- \n",
      " 0   Unnamed: 0  11149 non-null  int64 \n",
      " 1   Bat1        11149 non-null  object\n",
      " 2   Runs        11149 non-null  object\n",
      " 3   BF          11149 non-null  object\n",
      " 4   SR          11149 non-null  object\n",
      " 5   4s          11149 non-null  object\n",
      " 6   6s          11149 non-null  object\n",
      " 7   Opposition  11149 non-null  object\n",
      " 8   Ground      11149 non-null  object\n",
      " 9   Start Date  11149 non-null  object\n",
      " 10  Match_ID    11149 non-null  object\n",
      " 11  Batsman     11149 non-null  object\n",
      " 12  Player_ID   11149 non-null  int64 \n",
      "dtypes: int64(2), object(11)\n",
      "memory usage: 1.1+ MB\n"
     ]
    }
   ],
   "source": [
    "df.info()"
   ]
  },
  {
   "cell_type": "code",
   "execution_count": 5,
   "id": "4c16db02-0faa-4c47-99d6-05a5afa5d480",
   "metadata": {},
   "outputs": [
    {
     "data": {
      "text/plain": [
       "Unnamed: 0    0\n",
       "Bat1          0\n",
       "Runs          0\n",
       "BF            0\n",
       "SR            0\n",
       "4s            0\n",
       "6s            0\n",
       "Opposition    0\n",
       "Ground        0\n",
       "Start Date    0\n",
       "Match_ID      0\n",
       "Batsman       0\n",
       "Player_ID     0\n",
       "dtype: int64"
      ]
     },
     "execution_count": 5,
     "metadata": {},
     "output_type": "execute_result"
    }
   ],
   "source": [
    "df.isnull().sum()"
   ]
  },
  {
   "cell_type": "code",
   "execution_count": 6,
   "id": "30b06e83-5cbc-448b-9cd3-63e658c8399e",
   "metadata": {},
   "outputs": [
    {
     "data": {
      "text/html": [
       "<div>\n",
       "<style scoped>\n",
       "    .dataframe tbody tr th:only-of-type {\n",
       "        vertical-align: middle;\n",
       "    }\n",
       "\n",
       "    .dataframe tbody tr th {\n",
       "        vertical-align: top;\n",
       "    }\n",
       "\n",
       "    .dataframe thead th {\n",
       "        text-align: right;\n",
       "    }\n",
       "</style>\n",
       "<table border=\"1\" class=\"dataframe\">\n",
       "  <thead>\n",
       "    <tr style=\"text-align: right;\">\n",
       "      <th></th>\n",
       "      <th>Unnamed: 0</th>\n",
       "      <th>Bat1</th>\n",
       "      <th>Runs</th>\n",
       "      <th>BF</th>\n",
       "      <th>SR</th>\n",
       "      <th>4s</th>\n",
       "      <th>6s</th>\n",
       "      <th>Opposition</th>\n",
       "      <th>Ground</th>\n",
       "      <th>Start Date</th>\n",
       "      <th>Match_ID</th>\n",
       "      <th>Batsman</th>\n",
       "      <th>Player_ID</th>\n",
       "    </tr>\n",
       "  </thead>\n",
       "  <tbody>\n",
       "    <tr>\n",
       "      <th>0</th>\n",
       "      <td>1</td>\n",
       "      <td>DNB</td>\n",
       "      <td>0</td>\n",
       "      <td>0</td>\n",
       "      <td>0</td>\n",
       "      <td>0</td>\n",
       "      <td>0</td>\n",
       "      <td>v India</td>\n",
       "      <td>Nagpur</td>\n",
       "      <td>18-Dec-09</td>\n",
       "      <td>ODI # 2933</td>\n",
       "      <td>Oshane Thomas</td>\n",
       "      <td>49619</td>\n",
       "    </tr>\n",
       "    <tr>\n",
       "      <th>1</th>\n",
       "      <td>2</td>\n",
       "      <td>DNB</td>\n",
       "      <td>0</td>\n",
       "      <td>0</td>\n",
       "      <td>0</td>\n",
       "      <td>0</td>\n",
       "      <td>0</td>\n",
       "      <td>v India</td>\n",
       "      <td>Kolkata</td>\n",
       "      <td>24-Dec-09</td>\n",
       "      <td>ODI # 2935</td>\n",
       "      <td>Oshane Thomas</td>\n",
       "      <td>49619</td>\n",
       "    </tr>\n",
       "    <tr>\n",
       "      <th>2</th>\n",
       "      <td>3</td>\n",
       "      <td>DNB</td>\n",
       "      <td>0</td>\n",
       "      <td>0</td>\n",
       "      <td>0</td>\n",
       "      <td>0</td>\n",
       "      <td>0</td>\n",
       "      <td>v India</td>\n",
       "      <td>Delhi</td>\n",
       "      <td>27-Dec-09</td>\n",
       "      <td>ODI # 2936</td>\n",
       "      <td>Oshane Thomas</td>\n",
       "      <td>49619</td>\n",
       "    </tr>\n",
       "    <tr>\n",
       "      <th>3</th>\n",
       "      <td>4</td>\n",
       "      <td>DNB</td>\n",
       "      <td>0</td>\n",
       "      <td>0</td>\n",
       "      <td>0</td>\n",
       "      <td>0</td>\n",
       "      <td>0</td>\n",
       "      <td>v Bangladesh</td>\n",
       "      <td>Dhaka</td>\n",
       "      <td>04-Jan-10</td>\n",
       "      <td>ODI # 2937</td>\n",
       "      <td>Oshane Thomas</td>\n",
       "      <td>49619</td>\n",
       "    </tr>\n",
       "    <tr>\n",
       "      <th>4</th>\n",
       "      <td>5</td>\n",
       "      <td>DNB</td>\n",
       "      <td>0</td>\n",
       "      <td>0</td>\n",
       "      <td>0</td>\n",
       "      <td>0</td>\n",
       "      <td>0</td>\n",
       "      <td>v India</td>\n",
       "      <td>Dhaka</td>\n",
       "      <td>05-Jan-10</td>\n",
       "      <td>ODI # 2938</td>\n",
       "      <td>Oshane Thomas</td>\n",
       "      <td>49619</td>\n",
       "    </tr>\n",
       "  </tbody>\n",
       "</table>\n",
       "</div>"
      ],
      "text/plain": [
       "   Unnamed: 0 Bat1 Runs BF SR 4s 6s    Opposition   Ground Start Date  \\\n",
       "0           1  DNB    0  0  0  0  0       v India   Nagpur  18-Dec-09   \n",
       "1           2  DNB    0  0  0  0  0       v India  Kolkata  24-Dec-09   \n",
       "2           3  DNB    0  0  0  0  0       v India    Delhi  27-Dec-09   \n",
       "3           4  DNB    0  0  0  0  0  v Bangladesh    Dhaka  04-Jan-10   \n",
       "4           5  DNB    0  0  0  0  0       v India    Dhaka  05-Jan-10   \n",
       "\n",
       "     Match_ID        Batsman  Player_ID  \n",
       "0  ODI # 2933  Oshane Thomas      49619  \n",
       "1  ODI # 2935  Oshane Thomas      49619  \n",
       "2  ODI # 2936  Oshane Thomas      49619  \n",
       "3  ODI # 2937  Oshane Thomas      49619  \n",
       "4  ODI # 2938  Oshane Thomas      49619  "
      ]
     },
     "execution_count": 6,
     "metadata": {},
     "output_type": "execute_result"
    }
   ],
   "source": [
    "df1 = df.replace(\"-\",\"0\")\n",
    "df1.head()"
   ]
  },
  {
   "cell_type": "code",
   "execution_count": 7,
   "id": "28f85e40-84a5-40dd-a129-0e6086b2a292",
   "metadata": {},
   "outputs": [
    {
     "name": "stdout",
     "output_type": "stream",
     "text": [
      "<class 'pandas.core.frame.DataFrame'>\n",
      "RangeIndex: 11149 entries, 0 to 11148\n",
      "Data columns (total 13 columns):\n",
      " #   Column      Non-Null Count  Dtype \n",
      "---  ------      --------------  ----- \n",
      " 0   Unnamed: 0  11149 non-null  int64 \n",
      " 1   Bat1        11149 non-null  object\n",
      " 2   Runs        11149 non-null  object\n",
      " 3   BF          11149 non-null  object\n",
      " 4   SR          11149 non-null  object\n",
      " 5   4s          11149 non-null  object\n",
      " 6   6s          11149 non-null  object\n",
      " 7   Opposition  11149 non-null  object\n",
      " 8   Ground      11149 non-null  object\n",
      " 9   Start Date  11149 non-null  object\n",
      " 10  Match_ID    11149 non-null  object\n",
      " 11  Batsman     11149 non-null  object\n",
      " 12  Player_ID   11149 non-null  int64 \n",
      "dtypes: int64(2), object(11)\n",
      "memory usage: 1.1+ MB\n"
     ]
    }
   ],
   "source": [
    "df1.info()"
   ]
  },
  {
   "cell_type": "code",
   "execution_count": 8,
   "id": "f9da21ca-d086-4db2-89c7-0894b79b35d2",
   "metadata": {},
   "outputs": [],
   "source": [
    "# df1['Runs'] = df1['Runs'].apply(lambda X : int(X))"
   ]
  },
  {
   "cell_type": "code",
   "execution_count": 9,
   "id": "c75741da-299e-49d3-8b76-48cb2d083670",
   "metadata": {},
   "outputs": [],
   "source": [
    "# df1['BF'] = df1['BF'].apply(lambda X : int(X))"
   ]
  },
  {
   "cell_type": "code",
   "execution_count": 10,
   "id": "05dea44e-f6a5-4797-89a9-618b4256cf55",
   "metadata": {},
   "outputs": [],
   "source": [
    "# df1['SR'] = df1['SR'].apply(lambda X : float(X))"
   ]
  },
  {
   "cell_type": "code",
   "execution_count": 11,
   "id": "6b275265-9200-44cb-b0f5-8b3b6214e423",
   "metadata": {},
   "outputs": [],
   "source": [
    "# df1['4s'] = df1['4s'].apply(lambda X : int(X))"
   ]
  },
  {
   "cell_type": "code",
   "execution_count": 12,
   "id": "cf7fd449-9965-4401-98d0-c90f7cdd0154",
   "metadata": {},
   "outputs": [],
   "source": [
    "# df1['6s'] = df1['6s'].apply(lambda X : int(X))"
   ]
  },
  {
   "cell_type": "code",
   "execution_count": 13,
   "id": "6df844cf-9a62-41e0-9e33-dd77f177bdd1",
   "metadata": {},
   "outputs": [],
   "source": [
    "df1[['Runs','BF','4s','6s']] = df1[['Runs','BF','4s','6s']].apply(lambda X : X.astype(int))"
   ]
  },
  {
   "cell_type": "code",
   "execution_count": 14,
   "id": "b69411eb-2bdc-4304-9105-8d1156ffedec",
   "metadata": {},
   "outputs": [
    {
     "data": {
      "text/html": [
       "<div>\n",
       "<style scoped>\n",
       "    .dataframe tbody tr th:only-of-type {\n",
       "        vertical-align: middle;\n",
       "    }\n",
       "\n",
       "    .dataframe tbody tr th {\n",
       "        vertical-align: top;\n",
       "    }\n",
       "\n",
       "    .dataframe thead th {\n",
       "        text-align: right;\n",
       "    }\n",
       "</style>\n",
       "<table border=\"1\" class=\"dataframe\">\n",
       "  <thead>\n",
       "    <tr style=\"text-align: right;\">\n",
       "      <th></th>\n",
       "      <th>Unnamed: 0</th>\n",
       "      <th>Bat1</th>\n",
       "      <th>Runs</th>\n",
       "      <th>BF</th>\n",
       "      <th>SR</th>\n",
       "      <th>4s</th>\n",
       "      <th>6s</th>\n",
       "      <th>Opposition</th>\n",
       "      <th>Ground</th>\n",
       "      <th>Start Date</th>\n",
       "      <th>Match_ID</th>\n",
       "      <th>Batsman</th>\n",
       "      <th>Player_ID</th>\n",
       "    </tr>\n",
       "  </thead>\n",
       "  <tbody>\n",
       "    <tr>\n",
       "      <th>0</th>\n",
       "      <td>1</td>\n",
       "      <td>DNB</td>\n",
       "      <td>0</td>\n",
       "      <td>0</td>\n",
       "      <td>0</td>\n",
       "      <td>0</td>\n",
       "      <td>0</td>\n",
       "      <td>v India</td>\n",
       "      <td>Nagpur</td>\n",
       "      <td>18-Dec-09</td>\n",
       "      <td>ODI # 2933</td>\n",
       "      <td>Oshane Thomas</td>\n",
       "      <td>49619</td>\n",
       "    </tr>\n",
       "    <tr>\n",
       "      <th>1</th>\n",
       "      <td>2</td>\n",
       "      <td>DNB</td>\n",
       "      <td>0</td>\n",
       "      <td>0</td>\n",
       "      <td>0</td>\n",
       "      <td>0</td>\n",
       "      <td>0</td>\n",
       "      <td>v India</td>\n",
       "      <td>Kolkata</td>\n",
       "      <td>24-Dec-09</td>\n",
       "      <td>ODI # 2935</td>\n",
       "      <td>Oshane Thomas</td>\n",
       "      <td>49619</td>\n",
       "    </tr>\n",
       "    <tr>\n",
       "      <th>2</th>\n",
       "      <td>3</td>\n",
       "      <td>DNB</td>\n",
       "      <td>0</td>\n",
       "      <td>0</td>\n",
       "      <td>0</td>\n",
       "      <td>0</td>\n",
       "      <td>0</td>\n",
       "      <td>v India</td>\n",
       "      <td>Delhi</td>\n",
       "      <td>27-Dec-09</td>\n",
       "      <td>ODI # 2936</td>\n",
       "      <td>Oshane Thomas</td>\n",
       "      <td>49619</td>\n",
       "    </tr>\n",
       "    <tr>\n",
       "      <th>3</th>\n",
       "      <td>4</td>\n",
       "      <td>DNB</td>\n",
       "      <td>0</td>\n",
       "      <td>0</td>\n",
       "      <td>0</td>\n",
       "      <td>0</td>\n",
       "      <td>0</td>\n",
       "      <td>v Bangladesh</td>\n",
       "      <td>Dhaka</td>\n",
       "      <td>04-Jan-10</td>\n",
       "      <td>ODI # 2937</td>\n",
       "      <td>Oshane Thomas</td>\n",
       "      <td>49619</td>\n",
       "    </tr>\n",
       "    <tr>\n",
       "      <th>4</th>\n",
       "      <td>5</td>\n",
       "      <td>DNB</td>\n",
       "      <td>0</td>\n",
       "      <td>0</td>\n",
       "      <td>0</td>\n",
       "      <td>0</td>\n",
       "      <td>0</td>\n",
       "      <td>v India</td>\n",
       "      <td>Dhaka</td>\n",
       "      <td>05-Jan-10</td>\n",
       "      <td>ODI # 2938</td>\n",
       "      <td>Oshane Thomas</td>\n",
       "      <td>49619</td>\n",
       "    </tr>\n",
       "  </tbody>\n",
       "</table>\n",
       "</div>"
      ],
      "text/plain": [
       "   Unnamed: 0 Bat1  Runs  BF SR  4s  6s    Opposition   Ground Start Date  \\\n",
       "0           1  DNB     0   0  0   0   0       v India   Nagpur  18-Dec-09   \n",
       "1           2  DNB     0   0  0   0   0       v India  Kolkata  24-Dec-09   \n",
       "2           3  DNB     0   0  0   0   0       v India    Delhi  27-Dec-09   \n",
       "3           4  DNB     0   0  0   0   0  v Bangladesh    Dhaka  04-Jan-10   \n",
       "4           5  DNB     0   0  0   0   0       v India    Dhaka  05-Jan-10   \n",
       "\n",
       "     Match_ID        Batsman  Player_ID  \n",
       "0  ODI # 2933  Oshane Thomas      49619  \n",
       "1  ODI # 2935  Oshane Thomas      49619  \n",
       "2  ODI # 2936  Oshane Thomas      49619  \n",
       "3  ODI # 2937  Oshane Thomas      49619  \n",
       "4  ODI # 2938  Oshane Thomas      49619  "
      ]
     },
     "execution_count": 14,
     "metadata": {},
     "output_type": "execute_result"
    }
   ],
   "source": [
    "df1.head()"
   ]
  },
  {
   "cell_type": "code",
   "execution_count": 15,
   "id": "9e67d9ba-3af4-47e3-958e-bdc7babc020f",
   "metadata": {},
   "outputs": [],
   "source": [
    "df1['SR'] = df1['SR'].apply(lambda X : float(X))"
   ]
  },
  {
   "cell_type": "code",
   "execution_count": 16,
   "id": "138752a4-8f29-4fb0-b1b6-81d788f15c5a",
   "metadata": {},
   "outputs": [
    {
     "data": {
      "text/html": [
       "<div>\n",
       "<style scoped>\n",
       "    .dataframe tbody tr th:only-of-type {\n",
       "        vertical-align: middle;\n",
       "    }\n",
       "\n",
       "    .dataframe tbody tr th {\n",
       "        vertical-align: top;\n",
       "    }\n",
       "\n",
       "    .dataframe thead th {\n",
       "        text-align: right;\n",
       "    }\n",
       "</style>\n",
       "<table border=\"1\" class=\"dataframe\">\n",
       "  <thead>\n",
       "    <tr style=\"text-align: right;\">\n",
       "      <th></th>\n",
       "      <th>Unnamed: 0</th>\n",
       "      <th>Bat1</th>\n",
       "      <th>Runs</th>\n",
       "      <th>BF</th>\n",
       "      <th>SR</th>\n",
       "      <th>4s</th>\n",
       "      <th>6s</th>\n",
       "      <th>Opposition</th>\n",
       "      <th>Ground</th>\n",
       "      <th>Start Date</th>\n",
       "      <th>Match_ID</th>\n",
       "      <th>Batsman</th>\n",
       "      <th>Player_ID</th>\n",
       "    </tr>\n",
       "  </thead>\n",
       "  <tbody>\n",
       "    <tr>\n",
       "      <th>0</th>\n",
       "      <td>1</td>\n",
       "      <td>DNB</td>\n",
       "      <td>0</td>\n",
       "      <td>0</td>\n",
       "      <td>0.0</td>\n",
       "      <td>0</td>\n",
       "      <td>0</td>\n",
       "      <td>v India</td>\n",
       "      <td>Nagpur</td>\n",
       "      <td>18-Dec-09</td>\n",
       "      <td>ODI # 2933</td>\n",
       "      <td>Oshane Thomas</td>\n",
       "      <td>49619</td>\n",
       "    </tr>\n",
       "    <tr>\n",
       "      <th>1</th>\n",
       "      <td>2</td>\n",
       "      <td>DNB</td>\n",
       "      <td>0</td>\n",
       "      <td>0</td>\n",
       "      <td>0.0</td>\n",
       "      <td>0</td>\n",
       "      <td>0</td>\n",
       "      <td>v India</td>\n",
       "      <td>Kolkata</td>\n",
       "      <td>24-Dec-09</td>\n",
       "      <td>ODI # 2935</td>\n",
       "      <td>Oshane Thomas</td>\n",
       "      <td>49619</td>\n",
       "    </tr>\n",
       "    <tr>\n",
       "      <th>2</th>\n",
       "      <td>3</td>\n",
       "      <td>DNB</td>\n",
       "      <td>0</td>\n",
       "      <td>0</td>\n",
       "      <td>0.0</td>\n",
       "      <td>0</td>\n",
       "      <td>0</td>\n",
       "      <td>v India</td>\n",
       "      <td>Delhi</td>\n",
       "      <td>27-Dec-09</td>\n",
       "      <td>ODI # 2936</td>\n",
       "      <td>Oshane Thomas</td>\n",
       "      <td>49619</td>\n",
       "    </tr>\n",
       "    <tr>\n",
       "      <th>3</th>\n",
       "      <td>4</td>\n",
       "      <td>DNB</td>\n",
       "      <td>0</td>\n",
       "      <td>0</td>\n",
       "      <td>0.0</td>\n",
       "      <td>0</td>\n",
       "      <td>0</td>\n",
       "      <td>v Bangladesh</td>\n",
       "      <td>Dhaka</td>\n",
       "      <td>04-Jan-10</td>\n",
       "      <td>ODI # 2937</td>\n",
       "      <td>Oshane Thomas</td>\n",
       "      <td>49619</td>\n",
       "    </tr>\n",
       "    <tr>\n",
       "      <th>4</th>\n",
       "      <td>5</td>\n",
       "      <td>DNB</td>\n",
       "      <td>0</td>\n",
       "      <td>0</td>\n",
       "      <td>0.0</td>\n",
       "      <td>0</td>\n",
       "      <td>0</td>\n",
       "      <td>v India</td>\n",
       "      <td>Dhaka</td>\n",
       "      <td>05-Jan-10</td>\n",
       "      <td>ODI # 2938</td>\n",
       "      <td>Oshane Thomas</td>\n",
       "      <td>49619</td>\n",
       "    </tr>\n",
       "  </tbody>\n",
       "</table>\n",
       "</div>"
      ],
      "text/plain": [
       "   Unnamed: 0 Bat1  Runs  BF   SR  4s  6s    Opposition   Ground Start Date  \\\n",
       "0           1  DNB     0   0  0.0   0   0       v India   Nagpur  18-Dec-09   \n",
       "1           2  DNB     0   0  0.0   0   0       v India  Kolkata  24-Dec-09   \n",
       "2           3  DNB     0   0  0.0   0   0       v India    Delhi  27-Dec-09   \n",
       "3           4  DNB     0   0  0.0   0   0  v Bangladesh    Dhaka  04-Jan-10   \n",
       "4           5  DNB     0   0  0.0   0   0       v India    Dhaka  05-Jan-10   \n",
       "\n",
       "     Match_ID        Batsman  Player_ID  \n",
       "0  ODI # 2933  Oshane Thomas      49619  \n",
       "1  ODI # 2935  Oshane Thomas      49619  \n",
       "2  ODI # 2936  Oshane Thomas      49619  \n",
       "3  ODI # 2937  Oshane Thomas      49619  \n",
       "4  ODI # 2938  Oshane Thomas      49619  "
      ]
     },
     "execution_count": 16,
     "metadata": {},
     "output_type": "execute_result"
    }
   ],
   "source": [
    "df1.head()"
   ]
  },
  {
   "cell_type": "code",
   "execution_count": 17,
   "id": "50240a21-3102-4381-b81f-92eb1687583b",
   "metadata": {},
   "outputs": [
    {
     "name": "stdout",
     "output_type": "stream",
     "text": [
      "<class 'pandas.core.frame.DataFrame'>\n",
      "RangeIndex: 11149 entries, 0 to 11148\n",
      "Data columns (total 13 columns):\n",
      " #   Column      Non-Null Count  Dtype  \n",
      "---  ------      --------------  -----  \n",
      " 0   Unnamed: 0  11149 non-null  int64  \n",
      " 1   Bat1        11149 non-null  object \n",
      " 2   Runs        11149 non-null  int32  \n",
      " 3   BF          11149 non-null  int32  \n",
      " 4   SR          11149 non-null  float64\n",
      " 5   4s          11149 non-null  int32  \n",
      " 6   6s          11149 non-null  int32  \n",
      " 7   Opposition  11149 non-null  object \n",
      " 8   Ground      11149 non-null  object \n",
      " 9   Start Date  11149 non-null  object \n",
      " 10  Match_ID    11149 non-null  object \n",
      " 11  Batsman     11149 non-null  object \n",
      " 12  Player_ID   11149 non-null  int64  \n",
      "dtypes: float64(1), int32(4), int64(2), object(6)\n",
      "memory usage: 958.2+ KB\n"
     ]
    }
   ],
   "source": [
    "df1.info()"
   ]
  },
  {
   "cell_type": "code",
   "execution_count": 18,
   "id": "2d394406-95bf-4aa8-9fc9-278ee316eeb5",
   "metadata": {},
   "outputs": [],
   "source": [
    "df1['Start Date'] = pd.to_datetime(df1['Start Date'])"
   ]
  },
  {
   "cell_type": "code",
   "execution_count": 19,
   "id": "0bfcad70-3fe9-4f63-a3fd-6e5c1319d5a6",
   "metadata": {},
   "outputs": [
    {
     "name": "stdout",
     "output_type": "stream",
     "text": [
      "<class 'pandas.core.frame.DataFrame'>\n",
      "RangeIndex: 11149 entries, 0 to 11148\n",
      "Data columns (total 13 columns):\n",
      " #   Column      Non-Null Count  Dtype         \n",
      "---  ------      --------------  -----         \n",
      " 0   Unnamed: 0  11149 non-null  int64         \n",
      " 1   Bat1        11149 non-null  object        \n",
      " 2   Runs        11149 non-null  int32         \n",
      " 3   BF          11149 non-null  int32         \n",
      " 4   SR          11149 non-null  float64       \n",
      " 5   4s          11149 non-null  int32         \n",
      " 6   6s          11149 non-null  int32         \n",
      " 7   Opposition  11149 non-null  object        \n",
      " 8   Ground      11149 non-null  object        \n",
      " 9   Start Date  11149 non-null  datetime64[ns]\n",
      " 10  Match_ID    11149 non-null  object        \n",
      " 11  Batsman     11149 non-null  object        \n",
      " 12  Player_ID   11149 non-null  int64         \n",
      "dtypes: datetime64[ns](1), float64(1), int32(4), int64(2), object(5)\n",
      "memory usage: 958.2+ KB\n"
     ]
    }
   ],
   "source": [
    "df1.info()"
   ]
  },
  {
   "cell_type": "code",
   "execution_count": 20,
   "id": "73d3c147-dd9a-40c9-a4ca-a6c410ad4725",
   "metadata": {},
   "outputs": [
    {
     "data": {
      "text/plain": [
       "array(['v India', 'v Bangladesh', 'v England', 'v Australia',\n",
       "       'v Pakistan', 'v South Africa', 'v Afghanistan', 'v Ireland',\n",
       "       'v New Zealand', 'v West Indies', 'v Zimbabwe', 'v U.A.E.',\n",
       "       'v Sri Lanka', 'v Bermuda', 'v Canada', 'v Netherlands',\n",
       "       'v Scotland', 'v P.N.G.', 'v Kenya', 'v Asia XI', 'v Hong Kong',\n",
       "       'v Africa XI'], dtype=object)"
      ]
     },
     "execution_count": 20,
     "metadata": {},
     "output_type": "execute_result"
    }
   ],
   "source": [
    "df1['Opposition'].unique()"
   ]
  },
  {
   "cell_type": "code",
   "execution_count": 21,
   "id": "80217f39-d2ee-471e-bb38-5ea5d7364d3a",
   "metadata": {},
   "outputs": [
    {
     "data": {
      "text/plain": [
       "0"
      ]
     },
     "execution_count": 21,
     "metadata": {},
     "output_type": "execute_result"
    }
   ],
   "source": [
    "df1.duplicated().sum()"
   ]
  },
  {
   "cell_type": "code",
   "execution_count": 22,
   "id": "408c0c78-2c4f-4e69-9d16-0890d10f16e4",
   "metadata": {},
   "outputs": [
    {
     "data": {
      "text/plain": [
       "'India'"
      ]
     },
     "execution_count": 22,
     "metadata": {},
     "output_type": "execute_result"
    }
   ],
   "source": [
    "'v India'.split(\" \")[1]"
   ]
  },
  {
   "cell_type": "code",
   "execution_count": 23,
   "id": "72514f7e-d320-4dd3-a98f-eda88e47d3af",
   "metadata": {},
   "outputs": [],
   "source": [
    "df1['Opposition'] = df1[\"Opposition\"].apply(lambda x : str(x.split(\" \")[1]))"
   ]
  },
  {
   "cell_type": "code",
   "execution_count": 24,
   "id": "74910c70-c9f8-4c5f-8154-0a75d2e557ec",
   "metadata": {},
   "outputs": [
    {
     "data": {
      "text/plain": [
       "array(['India', 'Bangladesh', 'England', 'Australia', 'Pakistan', 'South',\n",
       "       'Afghanistan', 'Ireland', 'New', 'West', 'Zimbabwe', 'U.A.E.',\n",
       "       'Sri', 'Bermuda', 'Canada', 'Netherlands', 'Scotland', 'P.N.G.',\n",
       "       'Kenya', 'Asia', 'Hong', 'Africa'], dtype=object)"
      ]
     },
     "execution_count": 24,
     "metadata": {},
     "output_type": "execute_result"
    }
   ],
   "source": [
    "df1[\"Opposition\"].unique()"
   ]
  },
  {
   "cell_type": "code",
   "execution_count": 25,
   "id": "97d61ddf-38fc-4651-ad7e-2379ca5f103c",
   "metadata": {},
   "outputs": [
    {
     "data": {
      "text/plain": [
       "0             India\n",
       "1             India\n",
       "2             India\n",
       "3        Bangladesh\n",
       "4             India\n",
       "            ...    \n",
       "11144       Ireland\n",
       "11145       Ireland\n",
       "11146       Ireland\n",
       "11147      Scotland\n",
       "11148       Ireland\n",
       "Name: Opposition, Length: 11149, dtype: object"
      ]
     },
     "execution_count": 25,
     "metadata": {},
     "output_type": "execute_result"
    }
   ],
   "source": [
    "df1['Opposition'] "
   ]
  },
  {
   "cell_type": "code",
   "execution_count": 26,
   "id": "45b4cf02-df23-4a2e-9ba8-1071096a4afc",
   "metadata": {},
   "outputs": [
    {
     "data": {
      "text/html": [
       "<div>\n",
       "<style scoped>\n",
       "    .dataframe tbody tr th:only-of-type {\n",
       "        vertical-align: middle;\n",
       "    }\n",
       "\n",
       "    .dataframe tbody tr th {\n",
       "        vertical-align: top;\n",
       "    }\n",
       "\n",
       "    .dataframe thead th {\n",
       "        text-align: right;\n",
       "    }\n",
       "</style>\n",
       "<table border=\"1\" class=\"dataframe\">\n",
       "  <thead>\n",
       "    <tr style=\"text-align: right;\">\n",
       "      <th></th>\n",
       "      <th>Unnamed: 0</th>\n",
       "      <th>Bat1</th>\n",
       "      <th>Runs</th>\n",
       "      <th>BF</th>\n",
       "      <th>SR</th>\n",
       "      <th>4s</th>\n",
       "      <th>6s</th>\n",
       "      <th>Opposition</th>\n",
       "      <th>Ground</th>\n",
       "      <th>Start Date</th>\n",
       "      <th>Match_ID</th>\n",
       "      <th>Batsman</th>\n",
       "      <th>Player_ID</th>\n",
       "    </tr>\n",
       "  </thead>\n",
       "  <tbody>\n",
       "    <tr>\n",
       "      <th>0</th>\n",
       "      <td>1</td>\n",
       "      <td>DNB</td>\n",
       "      <td>0</td>\n",
       "      <td>0</td>\n",
       "      <td>0.0</td>\n",
       "      <td>0</td>\n",
       "      <td>0</td>\n",
       "      <td>India</td>\n",
       "      <td>Nagpur</td>\n",
       "      <td>2009-12-18</td>\n",
       "      <td>ODI # 2933</td>\n",
       "      <td>Oshane Thomas</td>\n",
       "      <td>49619</td>\n",
       "    </tr>\n",
       "    <tr>\n",
       "      <th>1</th>\n",
       "      <td>2</td>\n",
       "      <td>DNB</td>\n",
       "      <td>0</td>\n",
       "      <td>0</td>\n",
       "      <td>0.0</td>\n",
       "      <td>0</td>\n",
       "      <td>0</td>\n",
       "      <td>India</td>\n",
       "      <td>Kolkata</td>\n",
       "      <td>2009-12-24</td>\n",
       "      <td>ODI # 2935</td>\n",
       "      <td>Oshane Thomas</td>\n",
       "      <td>49619</td>\n",
       "    </tr>\n",
       "    <tr>\n",
       "      <th>2</th>\n",
       "      <td>3</td>\n",
       "      <td>DNB</td>\n",
       "      <td>0</td>\n",
       "      <td>0</td>\n",
       "      <td>0.0</td>\n",
       "      <td>0</td>\n",
       "      <td>0</td>\n",
       "      <td>India</td>\n",
       "      <td>Delhi</td>\n",
       "      <td>2009-12-27</td>\n",
       "      <td>ODI # 2936</td>\n",
       "      <td>Oshane Thomas</td>\n",
       "      <td>49619</td>\n",
       "    </tr>\n",
       "    <tr>\n",
       "      <th>3</th>\n",
       "      <td>4</td>\n",
       "      <td>DNB</td>\n",
       "      <td>0</td>\n",
       "      <td>0</td>\n",
       "      <td>0.0</td>\n",
       "      <td>0</td>\n",
       "      <td>0</td>\n",
       "      <td>Bangladesh</td>\n",
       "      <td>Dhaka</td>\n",
       "      <td>2010-01-04</td>\n",
       "      <td>ODI # 2937</td>\n",
       "      <td>Oshane Thomas</td>\n",
       "      <td>49619</td>\n",
       "    </tr>\n",
       "    <tr>\n",
       "      <th>4</th>\n",
       "      <td>5</td>\n",
       "      <td>DNB</td>\n",
       "      <td>0</td>\n",
       "      <td>0</td>\n",
       "      <td>0.0</td>\n",
       "      <td>0</td>\n",
       "      <td>0</td>\n",
       "      <td>India</td>\n",
       "      <td>Dhaka</td>\n",
       "      <td>2010-01-05</td>\n",
       "      <td>ODI # 2938</td>\n",
       "      <td>Oshane Thomas</td>\n",
       "      <td>49619</td>\n",
       "    </tr>\n",
       "  </tbody>\n",
       "</table>\n",
       "</div>"
      ],
      "text/plain": [
       "   Unnamed: 0 Bat1  Runs  BF   SR  4s  6s  Opposition   Ground Start Date  \\\n",
       "0           1  DNB     0   0  0.0   0   0       India   Nagpur 2009-12-18   \n",
       "1           2  DNB     0   0  0.0   0   0       India  Kolkata 2009-12-24   \n",
       "2           3  DNB     0   0  0.0   0   0       India    Delhi 2009-12-27   \n",
       "3           4  DNB     0   0  0.0   0   0  Bangladesh    Dhaka 2010-01-04   \n",
       "4           5  DNB     0   0  0.0   0   0       India    Dhaka 2010-01-05   \n",
       "\n",
       "     Match_ID        Batsman  Player_ID  \n",
       "0  ODI # 2933  Oshane Thomas      49619  \n",
       "1  ODI # 2935  Oshane Thomas      49619  \n",
       "2  ODI # 2936  Oshane Thomas      49619  \n",
       "3  ODI # 2937  Oshane Thomas      49619  \n",
       "4  ODI # 2938  Oshane Thomas      49619  "
      ]
     },
     "execution_count": 26,
     "metadata": {},
     "output_type": "execute_result"
    }
   ],
   "source": [
    "df1.head()"
   ]
  },
  {
   "cell_type": "code",
   "execution_count": 28,
   "id": "b58e52a4-732e-4590-a312-725472195093",
   "metadata": {},
   "outputs": [],
   "source": [
    "df1.drop([\"Unnamed: 0\",\"Match_ID\",\"Player_ID\"], axis =1,inplace =True)"
   ]
  },
  {
   "cell_type": "code",
   "execution_count": 29,
   "id": "92b04eb2-7ea0-44d5-b5a5-0ec1c78e21de",
   "metadata": {},
   "outputs": [
    {
     "data": {
      "text/html": [
       "<div>\n",
       "<style scoped>\n",
       "    .dataframe tbody tr th:only-of-type {\n",
       "        vertical-align: middle;\n",
       "    }\n",
       "\n",
       "    .dataframe tbody tr th {\n",
       "        vertical-align: top;\n",
       "    }\n",
       "\n",
       "    .dataframe thead th {\n",
       "        text-align: right;\n",
       "    }\n",
       "</style>\n",
       "<table border=\"1\" class=\"dataframe\">\n",
       "  <thead>\n",
       "    <tr style=\"text-align: right;\">\n",
       "      <th></th>\n",
       "      <th>Bat1</th>\n",
       "      <th>Runs</th>\n",
       "      <th>BF</th>\n",
       "      <th>SR</th>\n",
       "      <th>4s</th>\n",
       "      <th>6s</th>\n",
       "      <th>Opposition</th>\n",
       "      <th>Ground</th>\n",
       "      <th>Start Date</th>\n",
       "      <th>Batsman</th>\n",
       "    </tr>\n",
       "  </thead>\n",
       "  <tbody>\n",
       "    <tr>\n",
       "      <th>0</th>\n",
       "      <td>DNB</td>\n",
       "      <td>0</td>\n",
       "      <td>0</td>\n",
       "      <td>0.0</td>\n",
       "      <td>0</td>\n",
       "      <td>0</td>\n",
       "      <td>India</td>\n",
       "      <td>Nagpur</td>\n",
       "      <td>2009-12-18</td>\n",
       "      <td>Oshane Thomas</td>\n",
       "    </tr>\n",
       "    <tr>\n",
       "      <th>1</th>\n",
       "      <td>DNB</td>\n",
       "      <td>0</td>\n",
       "      <td>0</td>\n",
       "      <td>0.0</td>\n",
       "      <td>0</td>\n",
       "      <td>0</td>\n",
       "      <td>India</td>\n",
       "      <td>Kolkata</td>\n",
       "      <td>2009-12-24</td>\n",
       "      <td>Oshane Thomas</td>\n",
       "    </tr>\n",
       "    <tr>\n",
       "      <th>2</th>\n",
       "      <td>DNB</td>\n",
       "      <td>0</td>\n",
       "      <td>0</td>\n",
       "      <td>0.0</td>\n",
       "      <td>0</td>\n",
       "      <td>0</td>\n",
       "      <td>India</td>\n",
       "      <td>Delhi</td>\n",
       "      <td>2009-12-27</td>\n",
       "      <td>Oshane Thomas</td>\n",
       "    </tr>\n",
       "    <tr>\n",
       "      <th>3</th>\n",
       "      <td>DNB</td>\n",
       "      <td>0</td>\n",
       "      <td>0</td>\n",
       "      <td>0.0</td>\n",
       "      <td>0</td>\n",
       "      <td>0</td>\n",
       "      <td>Bangladesh</td>\n",
       "      <td>Dhaka</td>\n",
       "      <td>2010-01-04</td>\n",
       "      <td>Oshane Thomas</td>\n",
       "    </tr>\n",
       "    <tr>\n",
       "      <th>4</th>\n",
       "      <td>DNB</td>\n",
       "      <td>0</td>\n",
       "      <td>0</td>\n",
       "      <td>0.0</td>\n",
       "      <td>0</td>\n",
       "      <td>0</td>\n",
       "      <td>India</td>\n",
       "      <td>Dhaka</td>\n",
       "      <td>2010-01-05</td>\n",
       "      <td>Oshane Thomas</td>\n",
       "    </tr>\n",
       "  </tbody>\n",
       "</table>\n",
       "</div>"
      ],
      "text/plain": [
       "  Bat1  Runs  BF   SR  4s  6s  Opposition   Ground Start Date        Batsman\n",
       "0  DNB     0   0  0.0   0   0       India   Nagpur 2009-12-18  Oshane Thomas\n",
       "1  DNB     0   0  0.0   0   0       India  Kolkata 2009-12-24  Oshane Thomas\n",
       "2  DNB     0   0  0.0   0   0       India    Delhi 2009-12-27  Oshane Thomas\n",
       "3  DNB     0   0  0.0   0   0  Bangladesh    Dhaka 2010-01-04  Oshane Thomas\n",
       "4  DNB     0   0  0.0   0   0       India    Dhaka 2010-01-05  Oshane Thomas"
      ]
     },
     "execution_count": 29,
     "metadata": {},
     "output_type": "execute_result"
    }
   ],
   "source": [
    "df1.head()"
   ]
  },
  {
   "cell_type": "code",
   "execution_count": 30,
   "id": "42e16190-69cc-4be6-841a-93365159e6cd",
   "metadata": {},
   "outputs": [
    {
     "data": {
      "text/plain": [
       "array(['DNB', '0*', '1*', '0', '1', '2*', '4*', '3', '7*', '8', '7', '3*',\n",
       "       '10', 'TDNB', '20*', '26', '23*', '11*', '5*', '2', '5', '12',\n",
       "       '20', '49', '92*', '25', '22', '11', '40*', '29', '53', '37', '34',\n",
       "       '41', '42*', '59*', '9', '43', '18', '4', '6*', '46', '19', '16',\n",
       "       '64*', '24', '27*', '13', '12*', '24*', '9*', '14*', '8*', '26*',\n",
       "       '15*', '6', '21', '34*', '44', '10*', '19*', '31*', '27', '40',\n",
       "       '25*', '13*', '14', '148', '47', '33', '35', '176*', '76', '31',\n",
       "       '64', '66', '17', '101', '15', '71', '48*', '81', '51', '72', '23',\n",
       "       '35*', '49*', '32', '123*', '95', '146*', '108*', '170', '109',\n",
       "       '30', '87', '74', '127', '36', '38', '52', '125', '106', '94',\n",
       "       '104*', '28*', '45*', '39', '79', '73', '67', '86', '60', '28',\n",
       "       '100*', '72*', '55', '70', '54', '59', '50', '51*', '124', '102',\n",
       "       '61', '33*', '58*', '42', '152', '85', '62', '84', '103', '140',\n",
       "       '119', '153*', '112*', '152*', '60*', '132*', '99', '82', '132',\n",
       "       '95*', '123', '58', '45', '133*', '85*', '92', '110*', '113',\n",
       "       '122', '46*', '135', '80', '57', '88', '63', '37*', '63*', '215',\n",
       "       '162', '77', '16*', '22*', '21*', '17*', '56', '68', '41*', '99*',\n",
       "       '54*', '32*', '52*', '48', '30*', '78', '36*', '69*', '65', '80*',\n",
       "       '47*', '39*', '44*', '18*', '116', '69', '89', '102*', '62*',\n",
       "       '139*', '90', '81*', '87*', '75', '55*', '77*', '71*', '74*',\n",
       "       '56*', '93', '70*', '67*', '111*', '79*', '97*', '78*', 'absent',\n",
       "       'sub', '29*', '38*', '129', '66*', '150*', '97', '115*', '53*',\n",
       "       '130*', '138*', '118*', '117*', '75*', '139', '50*', '110', '119*',\n",
       "       '116*', '112', '150', '98', '100', '122*', '61*', '133', '159',\n",
       "       '154', '128', '107', '178', '168*', '83', '121', '126', '96',\n",
       "       '73*', '111', '105', '185', '91*', '120', '89*', '101*', '130',\n",
       "       '57*', '43*', '115', '136*', '140*', '113*', '151', '114', '82*',\n",
       "       '210*', '138', '118', '143', '86*', '108', '125*', '96*', '117',\n",
       "       '106*', '128*', '131*', '107*', '105*', '88*', '181*', '137',\n",
       "       '83*', '124*', '91', '103*', '189*', '237*', '93*', '180*', '104',\n",
       "       '145*', '65*', '183*', '109*', '84*', '68*', '134', '90*', '141*',\n",
       "       '209', '264', '171*', '147', '208*', '137*', '183', '136', '154*',\n",
       "       '76*', '131', '160*', '129*', '157*', '180', '171', '127*', '144',\n",
       "       '134*', '163', '173', '156', '179', '149', '164'], dtype=object)"
      ]
     },
     "execution_count": 30,
     "metadata": {},
     "output_type": "execute_result"
    }
   ],
   "source": [
    "df1['Bat1'].unique()"
   ]
  },
  {
   "cell_type": "code",
   "execution_count": 31,
   "id": "869fb97f-46f6-41c8-a8b2-5e9175408410",
   "metadata": {},
   "outputs": [
    {
     "name": "stdout",
     "output_type": "stream",
     "text": [
      "<class 'pandas.core.series.Series'>\n",
      "RangeIndex: 11149 entries, 0 to 11148\n",
      "Series name: Bat1\n",
      "Non-Null Count  Dtype \n",
      "--------------  ----- \n",
      "11149 non-null  object\n",
      "dtypes: object(1)\n",
      "memory usage: 87.2+ KB\n"
     ]
    }
   ],
   "source": [
    "df1['Bat1'].info()"
   ]
  },
  {
   "cell_type": "code",
   "execution_count": 38,
   "id": "91226793-fd56-41f6-a4f9-48253d1c7aee",
   "metadata": {},
   "outputs": [
    {
     "data": {
      "text/plain": [
       "'0*'"
      ]
     },
     "execution_count": 38,
     "metadata": {},
     "output_type": "execute_result"
    }
   ],
   "source": [
    "a = '0*'\n",
    "a"
   ]
  },
  {
   "cell_type": "code",
   "execution_count": 37,
   "id": "752cd027-d553-4f17-ad9f-abda22183a34",
   "metadata": {},
   "outputs": [
    {
     "data": {
      "text/plain": [
       "'0'"
      ]
     },
     "execution_count": 37,
     "metadata": {},
     "output_type": "execute_result"
    }
   ],
   "source": [
    "a.split('*')[0]"
   ]
  },
  {
   "cell_type": "code",
   "execution_count": null,
   "id": "42a49ebb-55f2-45ab-b69a-14df5f3ee9be",
   "metadata": {},
   "outputs": [],
   "source": [
    "def separation(x):\n",
    "    a = x.split(\"*\")[0]\n",
    "    if in a == \"*\":\n",
    "        True\n",
    "        "
   ]
  },
  {
   "cell_type": "code",
   "execution_count": null,
   "id": "7c80430e-f2a3-4cc0-9be4-faf4078252b3",
   "metadata": {},
   "outputs": [],
   "source": [
    "df1['Bat1'] = df1['Bat1'].apply(lambda x : x.split(\"*\")[0] )"
   ]
  }
 ],
 "metadata": {
  "kernelspec": {
   "display_name": "Python 3 (ipykernel)",
   "language": "python",
   "name": "python3"
  },
  "language_info": {
   "codemirror_mode": {
    "name": "ipython",
    "version": 3
   },
   "file_extension": ".py",
   "mimetype": "text/x-python",
   "name": "python",
   "nbconvert_exporter": "python",
   "pygments_lexer": "ipython3",
   "version": "3.11.5"
  },
  "widgets": {
   "application/vnd.jupyter.widget-state+json": {
    "state": {},
    "version_major": 2,
    "version_minor": 0
   }
  }
 },
 "nbformat": 4,
 "nbformat_minor": 5
}
